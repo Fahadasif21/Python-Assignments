{
 "cells": [
  {
   "cell_type": "code",
   "execution_count": 1,
   "metadata": {},
   "outputs": [
    {
     "name": "stdout",
     "output_type": "stream",
     "text": [
      "Hello,World!\n"
     ]
    }
   ],
   "source": [
    "print(\"Hello,World!\")"
   ]
  },
  {
   "cell_type": "code",
   "execution_count": 2,
   "metadata": {},
   "outputs": [
    {
     "name": "stdout",
     "output_type": "stream",
     "text": [
      "Twinkle, twinkle, little star,\n",
      " \tHow I wonder what you are!\n",
      " \t      Up above the world so high,\n",
      " \t      Like a diamond in the sky.\n",
      "Twinkle, twinkle, little star,\n",
      " \tHow I wonder what you are\n",
      " \t\n"
     ]
    }
   ],
   "source": [
    "# Assignment No. 1,Q1 \n",
    "\n",
    "a='Twinkle, twinkle, little star,'\n",
    "b='How I wonder what you are!'\n",
    "c='Up above the world so high,'\n",
    "d='Like a diamond in the sky.'\n",
    "e='Twinkle, twinkle, little star,'\n",
    "f='How I wonder what you are'\n",
    "print(a+'\\n \\t'+b+ '\\n \\t      '+c+ '\\n \\t      '+d+'\\n'+e+ '\\n \\t'+f+ '\\n \\t')"
   ]
  },
  {
   "cell_type": "code",
   "execution_count": 3,
   "metadata": {},
   "outputs": [
    {
     "name": "stdout",
     "output_type": "stream",
     "text": [
      "2019-11-04 08:45:56.308769\n"
     ]
    }
   ],
   "source": [
    "# Assignment No. 1, Q2.\n",
    "\n",
    "import datetime\n",
    "now=datetime.datetime.now()\n",
    "print(now)\n"
   ]
  },
  {
   "cell_type": "code",
   "execution_count": 4,
   "metadata": {},
   "outputs": [
    {
     "name": "stdout",
     "output_type": "stream",
     "text": [
      "python version\n",
      "3.7.4 (default, Aug  9 2019, 18:34:13) [MSC v.1915 64 bit (AMD64)]\n",
      "version.info\n",
      "sys.version_info(major=3, minor=7, micro=4, releaselevel='final', serial=0)\n"
     ]
    }
   ],
   "source": [
    "# Assignment No. 1, Q3.\n",
    "\n",
    "\n",
    "import sys\n",
    "print(\"python version\")\n",
    "print(sys.version)\n",
    "print('version.info')\n",
    "print(sys.version_info)"
   ]
  },
  {
   "cell_type": "code",
   "execution_count": 5,
   "metadata": {},
   "outputs": [
    {
     "name": "stdout",
     "output_type": "stream",
     "text": [
      "Enter the value of radius=25\n",
      "Area of circle is = 1964.2857142857142\n"
     ]
    }
   ],
   "source": [
    "# Assignment No. 1, Q4\n",
    "\n",
    "a=float(input('Enter the value of radius='))\n",
    "Area=(22/7)*float(a**2)\n",
    "print('Area of circle is =',Area)"
   ]
  },
  {
   "cell_type": "code",
   "execution_count": 11,
   "metadata": {},
   "outputs": [
    {
     "name": "stdout",
     "output_type": "stream",
     "text": [
      "Enter your firstnameFahad\n",
      "Enter your lastnameAsif\n",
      "Asif Fahad\n"
     ]
    }
   ],
   "source": [
    "# Assignment No. 1, Q5.\n",
    "\n",
    "firstName=input('Enter your firstname')\n",
    "lastName=input('Enter your lastname')\n",
    "c=lastName+ ' '+firstName\n",
    "print(c)"
   ]
  },
  {
   "cell_type": "code",
   "execution_count": 14,
   "metadata": {},
   "outputs": [
    {
     "name": "stdout",
     "output_type": "stream",
     "text": [
      "Enter your first number25\n",
      "Enter your second number100\n",
      "125\n"
     ]
    }
   ],
   "source": [
    "# Assignment No. 1, Q6.\n",
    "\n",
    "input1=input('Enter your first number')\n",
    "input2=input('Enter your second number')\n",
    "Result=int(input1)+int(input2)\n",
    "print(Result)"
   ]
  },
  {
   "cell_type": "code",
   "execution_count": null,
   "metadata": {},
   "outputs": [],
   "source": []
  }
 ],
 "metadata": {
  "kernelspec": {
   "display_name": "Python 3",
   "language": "python",
   "name": "python3"
  },
  "language_info": {
   "codemirror_mode": {
    "name": "ipython",
    "version": 3
   },
   "file_extension": ".py",
   "mimetype": "text/x-python",
   "name": "python",
   "nbconvert_exporter": "python",
   "pygments_lexer": "ipython3",
   "version": "3.7.4"
  }
 },
 "nbformat": 4,
 "nbformat_minor": 2
}
