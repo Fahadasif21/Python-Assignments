{
 "cells": [
  {
   "cell_type": "code",
   "execution_count": 17,
   "metadata": {},
   "outputs": [
    {
     "name": "stdout",
     "output_type": "stream",
     "text": [
      "Enter marks of the first subject: 95\n",
      "Enter marks of the second subject: 90\n",
      "Enter marks of the third subject: 88\n",
      "Enter marks of the fourth subject: 82\n",
      "Enter marks of the fifth subject: 80\n",
      "Grade: A\n"
     ]
    }
   ],
   "source": [
    "#Q1: Write a Program which takes 5 inputs from user for different subject's marks , total it and generate makr sheet using grades?\n",
    "    \n",
    "subject1=int(input(\"Enter marks of the first subject: \"))\n",
    "subject2=int(input(\"Enter marks of the second subject: \"))\n",
    "subject3=int(input(\"Enter marks of the third subject: \"))\n",
    "subject4=int(input(\"Enter marks of the fourth subject: \"))\n",
    "subject5=int(input(\"Enter marks of the fifth subject: \"))\n",
    "avg=(subject1+subject2+subject3+subject4+subject5)/5\n",
    "if(avg>=90):\n",
    "    print(\"Grade: A+\")\n",
    "elif(avg>=80 and avg<90):\n",
    "    print(\"Grade: A\")\n",
    "elif(avg>=70 and avg<80):\n",
    "    print(\"Grade: B\")\n",
    "elif(avg>=60 and avg<70):\n",
    "    print(\"Grade: C\")\n",
    "else:\n",
    "    print(\"Your Grade is : F\")"
   ]
  },
  {
   "cell_type": "code",
   "execution_count": 18,
   "metadata": {},
   "outputs": [
    {
     "name": "stdout",
     "output_type": "stream",
     "text": [
      "Enter 'x' for exit.\n",
      "Enter any number: 22\n",
      "22 is an even number.\n"
     ]
    }
   ],
   "source": [
    "# Q2 Write a program which take input from user and identify that the given number is even or odd?\n",
    "\n",
    "\n",
    "print(\"Enter 'q' for exit.\");\n",
    "num1 = input(\"Enter any number: \");\n",
    "if num1 == 'q':\n",
    "    exit();\n",
    "try:\n",
    "    number = float(num1);\n",
    "except ValueError:\n",
    "    print(\"Please, enter a number...\");\n",
    "else:\n",
    "    check = number%2;\n",
    "    if check == 0:\n",
    "             print(int(number), \"is an even number.\");\n",
    "    elif check == 1:\n",
    "        print(int(number), \"is an odd number.\");\n",
    "    else:\n",
    "        print(number, \"is strange.\");"
   ]
  },
  {
   "cell_type": "code",
   "execution_count": 19,
   "metadata": {},
   "outputs": [
    {
     "name": "stdout",
     "output_type": "stream",
     "text": [
      "Number of items in the list =  8\n"
     ]
    }
   ],
   "source": [
    "# Q3 Write a program which print the length of the list ?\n",
    "        \n",
    "length_of_list = ['a', 'z', 6, 'o','@','z', \"*\", 90]\n",
    " \n",
    "print (\"Number of items in the list = \", len(length_of_list))"
   ]
  },
  {
   "cell_type": "code",
   "execution_count": 14,
   "metadata": {},
   "outputs": [
    {
     "name": "stdout",
     "output_type": "stream",
     "text": [
      "196\n"
     ]
    }
   ],
   "source": [
    "# Q4 Write a program to sum all the numeric items in a list ?\n",
    "\n",
    "\n",
    "def sum(numbers):\n",
    "    total = 0\n",
    "    for x in numbers:\n",
    "        total += x\n",
    "    return total\n",
    "print(sum((8, 20, 32, 10, 7,22,42,55)))\n",
    "\n"
   ]
  },
  {
   "cell_type": "code",
   "execution_count": 7,
   "metadata": {},
   "outputs": [
    {
     "name": "stdout",
     "output_type": "stream",
     "text": [
      "Enter number of elements in list: 4\n",
      "Enter elements: 20\n",
      "Enter elements: 35\n",
      "Enter elements: 22\n",
      "Enter elements: 78\n",
      "Largest element is: 78\n"
     ]
    }
   ],
   "source": [
    "# Q5. Write a Python program to get the largest number from a numeric list.\n",
    "\n",
    "\n",
    "# creating empty list \n",
    "\n",
    "list1 = []  \n",
    "  \n",
    "# asking number of elements to put in list \n",
    "\n",
    "num = int(input(\"Enter number of elements in list: \")) \n",
    "  \n",
    "# iterating till num to append elements in list \n",
    "\n",
    "for i in range(1, num + 1): \n",
    "    ele = int(input(\"Enter elements: \")) \n",
    "    list1.append(ele) \n",
    "      \n",
    "# print maximum element \n",
    "print(\"Largest element is:\", max(list1)) \n"
   ]
  },
  {
   "cell_type": "code",
   "execution_count": 8,
   "metadata": {},
   "outputs": [
    {
     "name": "stdout",
     "output_type": "stream",
     "text": [
      "0\n",
      "4\n",
      "2\n",
      "1\n"
     ]
    }
   ],
   "source": [
    "# Q6. Take a list and write a program that prints out all the elements of the list that are less than 5.\n",
    "\n",
    "\n",
    "a = [0, 4, 2, 10, 9, 1, 11, 21, 44, 55, 99]\n",
    "\n",
    "for i in a:\n",
    "\n",
    "    if i < 5:\n",
    "\n",
    "        print(i)"
   ]
  },
  {
   "cell_type": "code",
   "execution_count": 12,
   "metadata": {},
   "outputs": [
    {
     "ename": "IndentationError",
     "evalue": "expected an indented block (<ipython-input-12-fcedc4a49d42>, line 4)",
     "output_type": "error",
     "traceback": [
      "\u001b[1;36m  File \u001b[1;32m\"<ipython-input-12-fcedc4a49d42>\"\u001b[1;36m, line \u001b[1;32m4\u001b[0m\n\u001b[1;33m    for i in range(len(a)):\u001b[0m\n\u001b[1;37m      ^\u001b[0m\n\u001b[1;31mIndentationError\u001b[0m\u001b[1;31m:\u001b[0m expected an indented block\n"
     ]
    }
   ],
   "source": [
    " "
   ]
  },
  {
   "cell_type": "code",
   "execution_count": null,
   "metadata": {},
   "outputs": [],
   "source": []
  }
 ],
 "metadata": {
  "kernelspec": {
   "display_name": "Python 3",
   "language": "python",
   "name": "python3"
  },
  "language_info": {
   "codemirror_mode": {
    "name": "ipython",
    "version": 3
   },
   "file_extension": ".py",
   "mimetype": "text/x-python",
   "name": "python",
   "nbconvert_exporter": "python",
   "pygments_lexer": "ipython3",
   "version": "3.7.4"
  }
 },
 "nbformat": 4,
 "nbformat_minor": 2
}
