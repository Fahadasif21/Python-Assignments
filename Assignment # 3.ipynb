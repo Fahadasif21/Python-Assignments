{
 "cells": [
  {
   "cell_type": "code",
   "execution_count": 9,
   "metadata": {},
   "outputs": [
    {
     "name": "stdout",
     "output_type": "stream",
     "text": [
      "Select operation.\n",
      "1.Add\n",
      "2.Subtract\n",
      "3.Multiply\n",
      "4.Divide\n",
      "5.Power\n",
      "Enter your choice of operation(1/2/3/4/5): 2\n",
      "Enter your first number: 55\n",
      "Enter your second number: 15\n",
      "55.0 - 15.0 = 40.0\n"
     ]
    }
   ],
   "source": [
    "# Q1. Make a calculator using python with addition, subtraction, multiplication, division and power.\n",
    "\n",
    "# The function to add two numbers:\n",
    "def add(x, y):\n",
    "   return x + y\n",
    "\n",
    "# The function to subtract two numbers:\n",
    "def subtract(x, y):\n",
    "   return x - y\n",
    "\n",
    "# The function to multiply two numbers:\n",
    "def multiply(x, y): \n",
    "   return x * y\n",
    "\n",
    "# The function to divide two numbers:\n",
    "def divide(x, y):\n",
    "   return x / y\n",
    "\n",
    "# The function to take power of two numbers:\n",
    "def power(x, y):\n",
    "   return x**y\n",
    "\n",
    "\n",
    "print(\"Select operation.\")\n",
    "print(\"1.Add\")\n",
    "print(\"2.Subtract\")\n",
    "print(\"3.Multiply\")\n",
    "print(\"4.Divide\")\n",
    "print(\"5.Power\")\n",
    "\n",
    "# To Take input from the user \n",
    "choice = input(\"Enter your choice of operation(1/2/3/4/5): \")\n",
    "num1 = float(input(\"Enter your first number: \"))\n",
    "num2 = float(input(\"Enter your second number: \"))\n",
    "if choice == '1':\n",
    "   print(num1,\"+\",num2,\"=\", add(num1,num2))\n",
    "elif choice == '2':\n",
    "   print(num1,\"-\",num2,\"=\", subtract(num1,num2))\n",
    "elif choice == '3':\n",
    "   print(num1,\"*\",num2,\"=\", multiply(num1,num2))\n",
    "elif choice == '4':\n",
    "   print(num1,\"/\",num2,\"=\", divide(num1,num2))\n",
    "elif choice == '5':\n",
    "   print(num1,\"**\",num2,\"=\", power(num1,num2))\n",
    "\n",
    "else:\n",
    "   print(\"Invalid input\")"
   ]
  },
  {
   "cell_type": "code",
   "execution_count": 7,
   "metadata": {},
   "outputs": [
    {
     "name": "stdout",
     "output_type": "stream",
     "text": [
      "Numeric value found : 6\n"
     ]
    }
   ],
   "source": [
    "#Q2 Write a program to check if there is any numeric value in list using for loop.\n",
    "Init_list = [\"fahad\",  'a', 6,\"Hello\"]\n",
    "for value in Init_list:\n",
    "    if type(value) == int or type(value) == float:\n",
    "        print(f\"The Numeric value found : {value}\")\n",
    "        break"
   ]
  },
  {
   "cell_type": "code",
   "execution_count": 13,
   "metadata": {},
   "outputs": [
    {
     "name": "stdout",
     "output_type": "stream",
     "text": [
      "Enter the key (int) to be added:2\n",
      "Enter the value for the key to be added:245\n",
      "Updated dictionary is:\n",
      "{2: 245}\n"
     ]
    }
   ],
   "source": [
    "#Q3 Write a python script to add a key to a dictionary.\n",
    "key=int(input(\"Enter the key (int) to be added:\"))\n",
    "value=int(input(\"Enter the value for the key to be added:\"))\n",
    "d={}\n",
    "d.update({key:value})\n",
    "print(\"Updated dictionary is:\")\n",
    "print(d)"
   ]
  },
  {
   "cell_type": "code",
   "execution_count": 16,
   "metadata": {},
   "outputs": [
    {
     "name": "stdout",
     "output_type": "stream",
     "text": [
      "Sum = 279.5\n"
     ]
    }
   ],
   "source": [
    "#Q4 Write a python program to add all the numeric value in dictionary.\n",
    "\n",
    "Final_Result = 0\n",
    "dic = {1: 2 , 2: \"fahad\", 3: 25, 4:\"Not numerical\",5: 2.5,6 :250}\n",
    "\n",
    "for value in dic.values():\n",
    "    if type(value) == int or type(value) == float:\n",
    "        Final_Result = Final_Result + value        \n",
    "        \n",
    "print(f\"Sum = {Final_Result}\")"
   ]
  },
  {
   "cell_type": "code",
   "execution_count": 22,
   "metadata": {},
   "outputs": [
    {
     "name": "stdout",
     "output_type": "stream",
     "text": [
      "Duplicated fahad\n",
      "Duplicated fahad\n",
      "Duplicated 10\n",
      "Duplicated 10\n",
      "Duplicated 2.2\n",
      "Duplicated 2.2\n"
     ]
    }
   ],
   "source": [
    "#Q5 Write a program to identify duplicate values from list.\n",
    "\n",
    "Init_list = [\"fahad\", \"rayyan\",\"fahad\",\"saad\", 10, 10, 2.2, 22, 2.2, 202, 4, 5, 6]\n",
    "for value in Init_list:\n",
    "    if  Init_list.count(value) > 1:\n",
    "        print(f\"Duplicated {value}\")"
   ]
  },
  {
   "cell_type": "code",
   "execution_count": 34,
   "metadata": {},
   "outputs": [
    {
     "name": "stdout",
     "output_type": "stream",
     "text": [
      "key is Present,  value is = 300\n",
      "Not present\n"
     ]
    }
   ],
   "source": [
    "#Q6 Write a python script to check if a given key already exists in a dictionary.\n",
    "\n",
    "def checkKey(dict, key): \n",
    "      \n",
    "    if key in dict.keys(): \n",
    "        print(\"key is Present, \", end =\" \") \n",
    "        print(\"value is =\", dict[key]) \n",
    "    else: \n",
    "        print(\"Not present\") \n",
    "  \n",
    "# Driver Code \n",
    "dict = {'a': 100, 'b':200, 'c':300} \n",
    "  \n",
    "key = 'c'\n",
    "checkKey(dict, key) \n",
    "  \n",
    "key = 'w'\n",
    "checkKey(dict, key) "
   ]
  },
  {
   "cell_type": "code",
   "execution_count": 25,
   "metadata": {},
   "outputs": [
    {
     "name": "stdout",
     "output_type": "stream",
     "text": [
      "Key is present in the dictionary\n",
      "Key is not present in the dictionary\n"
     ]
    }
   ],
   "source": []
  },
  {
   "cell_type": "code",
   "execution_count": null,
   "metadata": {},
   "outputs": [],
   "source": []
  }
 ],
 "metadata": {
  "kernelspec": {
   "display_name": "Python 3",
   "language": "python",
   "name": "python3"
  },
  "language_info": {
   "codemirror_mode": {
    "name": "ipython",
    "version": 3
   },
   "file_extension": ".py",
   "mimetype": "text/x-python",
   "name": "python",
   "nbconvert_exporter": "python",
   "pygments_lexer": "ipython3",
   "version": "3.7.4"
  }
 },
 "nbformat": 4,
 "nbformat_minor": 2
}
