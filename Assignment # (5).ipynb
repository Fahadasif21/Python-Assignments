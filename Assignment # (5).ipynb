{
 "cells": [
  {
   "cell_type": "code",
   "execution_count": 1,
   "metadata": {},
   "outputs": [
    {
     "name": "stdout",
     "output_type": "stream",
     "text": [
      "Enter Number to calculate it's factorial: 5\n",
      "120\n"
     ]
    }
   ],
   "source": [
    "# Question:1\n",
    "# Write a Python function to calculate the factorial of a number (a non-negative\n",
    "# integer). The function accepts the number as an argument.\n",
    "\n",
    "def isPositiveInteger(number):\n",
    "    if int(number) > 0 :\n",
    "        return True\n",
    "    else:\n",
    "        return False\n",
    "def calcFactorial(number):\n",
    "    factorial = 1\n",
    "    if isPositiveInteger(number) == True:\n",
    "        number = int(number)\n",
    "        for i in range(1, number + 1):\n",
    "            factorial = factorial * i\n",
    "        print(factorial)\n",
    "    else:\n",
    "        print(\"Invalid input\")\n",
    "\n",
    "factCalc = input(\"Enter Number to calculate it's factorial: \")\n",
    "calcFactorial(factCalc)"
   ]
  },
  {
   "cell_type": "code",
   "execution_count": 2,
   "metadata": {},
   "outputs": [
    {
     "name": "stdout",
     "output_type": "stream",
     "text": [
      "Enter String:FaHaDAsIf\n",
      "Upper case letters are:  5\n",
      "Lower case letters are:  4\n"
     ]
    }
   ],
   "source": [
    "# Question:2\n",
    "# Write a Python function that accepts a string and calculate the number of upper\n",
    "# case letters and lower case letters.\n",
    "\n",
    "def CountUpperLower(stns):\n",
    "    upper=0;\n",
    "    lower=0;\n",
    "    for i in stns:\n",
    "        if i>=\"A\" and i<=\"Z\":\n",
    "            upper +=1;\n",
    "        elif i>=\"a\" and i<=\"z\":\n",
    "            lower +=1;\n",
    "    print(\"Upper case letters are: \",upper);\n",
    "    print(\"Lower case letters are: \", lower);\n",
    "\n",
    "stns = input(\"Enter String:\");\n",
    "CountUpperLower(stns)"
   ]
  },
  {
   "cell_type": "code",
   "execution_count": 3,
   "metadata": {},
   "outputs": [
    {
     "name": "stdout",
     "output_type": "stream",
     "text": [
      "Enter number of elements for a List4\n",
      "21\n",
      "14\n",
      "0\n",
      "2\n",
      "[21, 14, 0, 2]\n",
      "14, 0, 2, "
     ]
    }
   ],
   "source": [
    "#Q3 Write a Python function to print the even numbers from a given list.\n",
    "\n",
    "List = [];\n",
    "n = int(input(\"Enter number of elements for a List\"));\n",
    "for i in range(0, n):\n",
    "    num= int(input());\n",
    "    List.append(num)\n",
    "print(List);\n",
    "def EvenNum(List):\n",
    "    for num in List:\n",
    "        if num % 2==0:  \n",
    "            print(num, end =\", \");\n",
    "EvenNum(List);"
   ]
  },
  {
   "cell_type": "code",
   "execution_count": 4,
   "metadata": {},
   "outputs": [
    {
     "name": "stdout",
     "output_type": "stream",
     "text": [
      "Enter any word: networking\n",
      "Not palindrom Word\n",
      "Not a palindrom\n"
     ]
    }
   ],
   "source": [
    "# Question:4\n",
    "# Write a Python function that checks whether a passed string is palindrome or not.\n",
    "# Note: A palindrome is a word, phrase, or sequence that reads the same\n",
    "# backward as forward, e.g., madam\n",
    "\n",
    "def isPalindrom(palWord):\n",
    "     firstHalf = []\n",
    "     secondHalf = []\n",
    "     if len(palWord) % 2 == 1:\n",
    "         oddList = (len(palWord) // 2)\n",
    "         for element in range(oddList):\n",
    "             firstHalf.append(palWord[element])\n",
    "         for element in range(-1, -(len(palWord)-oddList), -1):\n",
    "             secondHalf.append(palWord[element])\n",
    "     else:\n",
    "         print(\"Not palindrom Word\")\n",
    "     palindrom = False\n",
    "     for element in range(len(firstHalf)):\n",
    "         if firstHalf[element] == secondHalf[element]:\n",
    "             palindrom = True\n",
    "     if palindrom == True:\n",
    "         print(\"{} is a Palindrom\".format(palWord))\n",
    "     else:\n",
    "         print(\"Not a palindrom\")\n",
    "palWord = input('Enter any word: ')\n",
    "isPalindrom(palWord)"
   ]
  },
  {
   "cell_type": "code",
   "execution_count": 13,
   "metadata": {},
   "outputs": [
    {
     "name": "stdout",
     "output_type": "stream",
     "text": [
      "Enter any number: 21\n",
      "Not a prime Number\n",
      "3 times 7 is a 21.\n"
     ]
    }
   ],
   "source": [
    "# Question:5\n",
    "# Write a Python function that takes a number as a parameter and check the\n",
    "# number is prime or not.\n",
    "\n",
    "def isPositiveInteger(number):\n",
    "     try:\n",
    "         number = int(number)\n",
    "         return True\n",
    "     except:\n",
    "         return False\n",
    "\n",
    "def checkPrime(number):\n",
    "     isPrime = isPositiveInteger(number)\n",
    "     if isPrime:\n",
    "         number = int(number)\n",
    "         for i in range(2, number):\n",
    "             if (number % i == 0):\n",
    "                 print(\"Not a prime Number\")\n",
    "                 print(\"{} times {} is a {}.\".format(i, number // i, number))\n",
    "                 break\n",
    "         else:\n",
    "             print(\"{} is a prime number.\".format(number))\n",
    "     else:\n",
    "         print(\"Enter positive integers only\")\n",
    "number = input(\"Enter any number: \")\n",
    "checkPrime(number)"
   ]
  },
  {
   "cell_type": "code",
   "execution_count": 17,
   "metadata": {},
   "outputs": [
    {
     "name": "stdout",
     "output_type": "stream",
     "text": [
      "Enter Shopping item [-1 to abort]: soap\n",
      "Enter Shopping item [-1 to abort]: toothpaste\n",
      "Enter Shopping item [-1 to abort]: shirts\n",
      "Enter Shopping item [-1 to abort]: shoes\n",
      "Enter Shopping item [-1 to abort]: bags\n",
      "Enter Shopping item [-1 to abort]: tie\n",
      "Enter Shopping item [-1 to abort]: perfume\n",
      "Enter Shopping item [-1 to abort]: \n",
      "Enter Shopping item [-1 to abort]: -1\n",
      "You purchased: soap\n",
      "You purchased: toothpaste\n",
      "You purchased: shirts\n",
      "You purchased: shoes\n",
      "You purchased: bags\n",
      "You purchased: tie\n",
      "You purchased: perfume\n",
      "You purchased: \n"
     ]
    }
   ],
   "source": [
    "# Question: 6\n",
    "# Suppose a customer is shopping in a market and you need to print all the items\n",
    "# which user bought from market.\n",
    "# Write a function which accepts the multiple arguments of user shopping list and\n",
    "# print all the items which user bought from market.\n",
    "# (Hint: Arbitrary Argument concept can make this task ease)\n",
    "\n",
    "def shoppingList(*items):\n",
    "     shoppingItems = []\n",
    "     while True:\n",
    "         item = input(\"Enter Shopping item [-1 to abort]: \")\n",
    "         if item != '-1':\n",
    "             shoppingItems.append(item)\n",
    "         else:\n",
    "             break\n",
    "     for item in range(len(shoppingItems)):\n",
    "         print(\"You purchased: {}\".format(shoppingItems[item]))\n",
    "shoppingList()\n"
   ]
  },
  {
   "cell_type": "code",
   "execution_count": null,
   "metadata": {},
   "outputs": [],
   "source": []
  }
 ],
 "metadata": {
  "kernelspec": {
   "display_name": "Python 3",
   "language": "python",
   "name": "python3"
  },
  "language_info": {
   "codemirror_mode": {
    "name": "ipython",
    "version": 3
   },
   "file_extension": ".py",
   "mimetype": "text/x-python",
   "name": "python",
   "nbconvert_exporter": "python",
   "pygments_lexer": "ipython3",
   "version": "3.7.4"
  }
 },
 "nbformat": 4,
 "nbformat_minor": 2
}
