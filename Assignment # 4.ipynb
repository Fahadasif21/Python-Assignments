{
 "cells": [
  {
   "cell_type": "code",
   "execution_count": 1,
   "metadata": {},
   "outputs": [],
   "source": [
    "## Question 1: Use a dictionary to store information about a person you know. Store their first name, last name, age, and\n",
    "## the city in which they live. You should have keys such as first_name, last_name, age, and city. \n",
    "## Print each piece of information stored in your dictionary. Add a new key value pair about qualification then \n",
    "## update the qualification value to high academic level then delete it.\n"
   ]
  },
  {
   "cell_type": "code",
   "execution_count": 3,
   "metadata": {},
   "outputs": [
    {
     "name": "stdout",
     "output_type": "stream",
     "text": [
      "{'first name': 'Muhammad Babar', 'last name': 'Siddiqui', 'age': 27, 'city': 'Washington DC'}\n",
      "{'first name': 'Muhammad Babar', 'last name': 'Siddiqui', 'age': 27, 'city': 'Washington DC', 'Qualification': 'To be added'}\n",
      "{'first name': 'Muhammad Babar', 'last name': 'Siddiqui', 'age': 27, 'city': 'Washington DC', 'Qualification': 'high academic level'}\n",
      "{'first name': 'Muhammad Babar', 'last name': 'Siddiqui', 'age': 27, 'city': 'Washington DC'}\n"
     ]
    }
   ],
   "source": [
    "\n",
    "\n",
    "info = { \n",
    "    \"first name\": \"Muhammad Babar\",\n",
    "    \"last name\" : \"Siddiqui\",\n",
    "    \"age\"           : 27,\n",
    "    \"city\"          : \"Washington DC\"\n",
    "}\n",
    "\n",
    "print(info)\n",
    "\n",
    "info[\"Qualification\"] = \"To be added\"\n",
    "print(info)\n",
    "\n",
    "info[\"Qualification\"]= \"high academic level\"\n",
    "print(info)\n",
    "\n",
    "del info[\"Qualification\"]\n",
    "print(info)\n"
   ]
  },
  {
   "cell_type": "code",
   "execution_count": 4,
   "metadata": {},
   "outputs": [],
   "source": [
    "## Question 2: Make a dictionary called cities. Use the names of three cities as keys in your dictionary. \n",
    "## Create a dictionary of information about each city and include the country that the city is in,\n",
    "## its approximate population, and one fact about that city. \n",
    "## The keys for each city’s dictionary should be something like country,\n",
    "## population, and fact. Print the name of each city,\n",
    "## and all of the information you have stored about it"
   ]
  },
  {
   "cell_type": "code",
   "execution_count": 23,
   "metadata": {},
   "outputs": [
    {
     "name": "stdout",
     "output_type": "stream",
     "text": [
      "{'country': 'Pakistan', 'population': 14910000, 'fact': 'This city is called as the city of lights in Pakistan !'}\n",
      "{'country': 'China', 'population': 21540000, 'fact': 'Beijing is the second largest city in China. !'}\n",
      "{'country': 'France', 'population': 145000, 'fact': 'Paris was originally a Roman City called “Lutetia.!'}\n"
     ]
    }
   ],
   "source": [
    "cities = {\n",
    "    \"Karachi\" : {\"country\": \"Pakistan\" ,\n",
    "     \"population\" : 14910000     ,\n",
    "     \"fact\"       : \"This city is called as the city of lights in Pakistan !\"},\n",
    "    \n",
    "    \"Beijing\"  : {\"country\"  : \"China\" ,\n",
    "    \"population\" : 21540000 ,\n",
    "    \"fact\"       : \"Beijing is the second largest city in China. !\"},\n",
    "    \n",
    "    \"Paris\"   : {\"country\"  : \"France\" ,\n",
    "    \"population\" : 145000,\n",
    "    \"fact\"       : \"Paris was originally a Roman City called “Lutetia.!\"}\n",
    "}\n",
    "\n",
    "print(cities[\"Karachi\"])\n",
    "print(cities[\"Beijing\"])\n",
    "print(cities[\"Paris\"])"
   ]
  },
  {
   "cell_type": "code",
   "execution_count": 21,
   "metadata": {},
   "outputs": [],
   "source": [
    "## Q3  A movie theater charges different ticket prices depending on a person’s age. If a person is under the age of 3,\n",
    "## the ticket is free; if they are between 3 and 12, the ticket is 10 dollars; and if they are over age 12,\n",
    "## the ticket is 15 dollars. Write a loop in which you ask users their age, \n",
    "## and then tell them the cost of their movie ticket."
   ]
  },
  {
   "cell_type": "code",
   "execution_count": 25,
   "metadata": {},
   "outputs": [
    {
     "name": "stdout",
     "output_type": "stream",
     "text": [
      "\n",
      "Please Enter your age or 'x' to stop asking :27\n",
      "Your ticket is $15 !\n",
      "\n",
      "Please Enter your age or 'x' to stop asking :x\n"
     ]
    }
   ],
   "source": [
    "\n",
    "flag = True\n",
    "while flag:\n",
    "    age = input(\"\\nPlease Enter your age or 'x' to stop asking :\")\n",
    "    \n",
    "    if age.lower() == 'x':\n",
    "        flag = False\n",
    "    else:\n",
    "        int_age = int(age)\n",
    "        if int_age < 3:\n",
    "            print(\"Your ticket is free, enjoy !\")\n",
    "        elif int_age >=3 and int_age <=12:\n",
    "            print(\"Your ticket is $10, have fun !\")\n",
    "        elif int_age > 12:\n",
    "            print(\"Your ticket is $15 !\")"
   ]
  },
  {
   "cell_type": "code",
   "execution_count": 26,
   "metadata": {},
   "outputs": [],
   "source": [
    "## Question 4: Write a function called favorite_book() that accepts one parameter, title. The function should print a message, \n",
    "## such as One of my favorite books is Alice in Wonderland. Call the function, \n",
    "## making sure to include a book title as an argument in the function call."
   ]
  },
  {
   "cell_type": "code",
   "execution_count": 27,
   "metadata": {},
   "outputs": [
    {
     "name": "stdout",
     "output_type": "stream",
     "text": [
      "One of my favorite books is 'Alice in Wonderland'.\n",
      "One of my favorite books is 'The power of now '.\n"
     ]
    }
   ],
   "source": [
    "def my_favorite_book(title):\n",
    "    print(f\"One of my favorite books is '{title}'.\")\n",
    "    \n",
    "my_favorite_book(\"Alice in Wonderland\")\n",
    "my_favorite_book(\"The power of now \")"
   ]
  },
  {
   "cell_type": "code",
   "execution_count": 28,
   "metadata": {},
   "outputs": [],
   "source": [
    "## Question 5: Guess the number game\n",
    "## Write a program which randomly generate a number between 1 to 30 and ask the user in input field to guess the correct number. \n",
    "## Give three chances to user guess the number,\n",
    "## and also give hint to user if hidden number is greater or smaller than the number he given to input field."
   ]
  },
  {
   "cell_type": "code",
   "execution_count": 29,
   "metadata": {},
   "outputs": [
    {
     "name": "stdout",
     "output_type": "stream",
     "text": [
      "\n",
      "\tYou have 3 chances to guess the hidden number (from 1 to 30): 20\n",
      "\tYour guess is greater than the hidden number !\n",
      "\n",
      "\tYou have 2 chances to guess the hidden number (from 1 to 30): 10\n",
      "\tYour guess is less than the hidden number !\n",
      "\n",
      "\tYou have 1 chances to guess the hidden number (from 1 to 30): 12\n",
      "\tYour guess is less than the hidden number !\n",
      "\n",
      "\tYou Lost ! :(  Hidden Number was 26\n"
     ]
    }
   ],
   "source": [
    "import random as rdn\n",
    "i = 3\n",
    "while i > 0:\n",
    "    correct_num = rdn.randint(1,30)\n",
    "    useri_num = int(input(f\"\\n\\tYou have {i} chances to guess the hidden number (from 1 to 30): \"))\n",
    "    \n",
    "    if useri_num == correct_num:\n",
    "        print(\"\\t***Congrats ! Correct Guess, You Won*** :)\")\n",
    "        break\n",
    "    elif useri_num > correct_num:\n",
    "        print(\"\\tYour guess is greater than the hidden number !\")\n",
    "        i -= 1\n",
    "    elif useri_num < correct_num:\n",
    "        print(\"\\tYour guess is less than the hidden number !\")\n",
    "        i-=1\n",
    "    elif useri_num < 1 or user_num > 30:\n",
    "        print(\"\\tPlease enter number in range 1 to 30 !\")\n",
    "        \n",
    "if i == 0:\n",
    "    print(f\"\\n\\tYou Lost ! :(  Hidden Number was {correct_num}\")\n"
   ]
  },
  {
   "cell_type": "code",
   "execution_count": null,
   "metadata": {},
   "outputs": [],
   "source": []
  }
 ],
 "metadata": {
  "kernelspec": {
   "display_name": "Python 3",
   "language": "python",
   "name": "python3"
  },
  "language_info": {
   "codemirror_mode": {
    "name": "ipython",
    "version": 3
   },
   "file_extension": ".py",
   "mimetype": "text/x-python",
   "name": "python",
   "nbconvert_exporter": "python",
   "pygments_lexer": "ipython3",
   "version": "3.7.4"
  }
 },
 "nbformat": 4,
 "nbformat_minor": 2
}
